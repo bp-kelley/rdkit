{
 "cells": [
  {
   "cell_type": "code",
   "execution_count": 1,
   "id": "7729e729-cecb-4157-bc86-e0bca6578431",
   "metadata": {},
   "outputs": [],
   "source": [
    "from rdkit import Chem"
   ]
  },
  {
   "cell_type": "code",
   "execution_count": 2,
   "id": "ef48a4b9-0dd3-4a43-a89d-f1f3d0685b43",
   "metadata": {},
   "outputs": [],
   "source": [
    "m = Chem.MolFromSmiles(\"CCCCCCCCCCCC\")\n",
    "ps = Chem.FindAllPathsOfLengthN(m, 3)"
   ]
  },
  {
   "cell_type": "code",
   "execution_count": 3,
   "id": "6bfdab2f-5389-4b80-b7f6-c800cfcfed1b",
   "metadata": {},
   "outputs": [
    {
     "name": "stdout",
     "output_type": "stream",
     "text": [
      "5.04 ms ± 24.9 μs per loop (mean ± std. dev. of 7 runs, 100 loops each)\n"
     ]
    }
   ],
   "source": [
    "%timeit [list(x) for x in ps]"
   ]
  },
  {
   "cell_type": "code",
   "execution_count": 4,
   "id": "02e16f53-d7c3-4ea7-929a-845a5f837c9b",
   "metadata": {},
   "outputs": [],
   "source": [
    "from rdkit.Chem import AllChem"
   ]
  },
  {
   "cell_type": "code",
   "execution_count": 5,
   "id": "346cf272-7255-4418-85e2-14c5dd982742",
   "metadata": {},
   "outputs": [],
   "source": [
    "from rdkit.Chem import rdChemReactions"
   ]
  },
  {
   "cell_type": "code",
   "execution_count": null,
   "id": "df32965a-5b71-4705-b929-0d6b8d8b471a",
   "metadata": {},
   "outputs": [
    {
     "name": "stdout",
     "output_type": "stream",
     "text": [
      "N=3 3 652 μs ± 465 ns per loop (mean ± std. dev. of 7 runs, 1,000 loops each)\n",
      "N=4 4 653 μs ± 2.56 μs per loop (mean ± std. dev. of 7 runs, 1,000 loops each)\n",
      "N=5 5 652 μs ± 1.28 μs per loop (mean ± std. dev. of 7 runs, 1,000 loops each)\n",
      "N=6 6 652 μs ± 1.28 μs per loop (mean ± std. dev. of 7 runs, 1,000 loops each)\n",
      "N=7 7 653 μs ± 1.79 μs per loop (mean ± std. dev. of 7 runs, 1,000 loops each)\n",
      "N=8 8 654 μs ± 1.55 μs per loop (mean ± std. dev. of 7 runs, 1,000 loops each)\n",
      "N=9 9 655 μs ± 2.49 μs per loop (mean ± std. dev. of 7 runs, 1,000 loops each)\n",
      "N=10 10 654 μs ± 1.49 μs per loop (mean ± std. dev. of 7 runs, 1,000 loops each)\n",
      "N=11 11 655 μs ± 1.33 μs per loop (mean ± std. dev. of 7 runs, 1,000 loops each)\n",
      "N=12 12 654 μs ± 1.28 μs per loop (mean ± std. dev. of 7 runs, 1,000 loops each)\n",
      "N=13 13 654 μs ± 609 ns per loop (mean ± std. dev. of 7 runs, 1,000 loops each)\n",
      "N=14 14 655 μs ± 2.19 μs per loop (mean ± std. dev. of 7 runs, 1,000 loops each)\n",
      "N=15 15 655 μs ± 1.65 μs per loop (mean ± std. dev. of 7 runs, 1,000 loops each)\n",
      "N=16 16 655 μs ± 1.15 μs per loop (mean ± std. dev. of 7 runs, 1,000 loops each)\n",
      "N=17 17 654 μs ± 1.34 μs per loop (mean ± std. dev. of 7 runs, 1,000 loops each)\n",
      "N=18 18 654 μs ± 1.58 μs per loop (mean ± std. dev. of 7 runs, 1,000 loops each)\n",
      "N=19 19 656 μs ± 1.29 μs per loop (mean ± std. dev. of 7 runs, 1,000 loops each)\n",
      "N=20 20 655 μs ± 1.96 μs per loop (mean ± std. dev. of 7 runs, 1,000 loops each)\n",
      "N=21 21 656 μs ± 1.74 μs per loop (mean ± std. dev. of 7 runs, 1,000 loops each)\n",
      "N=22 22 655 μs ± 1.33 μs per loop (mean ± std. dev. of 7 runs, 1,000 loops each)\n",
      "N=23 23 655 μs ± 2.76 μs per loop (mean ± std. dev. of 7 runs, 1,000 loops each)\n",
      "N=24 24 657 μs ± 1.85 μs per loop (mean ± std. dev. of 7 runs, 1,000 loops each)\n",
      "N=25 25 658 μs ± 2.3 μs per loop (mean ± std. dev. of 7 runs, 1,000 loops each)\n",
      "N=26 26 656 μs ± 968 ns per loop (mean ± std. dev. of 7 runs, 1,000 loops each)\n",
      "N=27 27 656 μs ± 1.47 μs per loop (mean ± std. dev. of 7 runs, 1,000 loops each)\n",
      "N=28 28 659 μs ± 3.64 μs per loop (mean ± std. dev. of 7 runs, 1,000 loops each)\n",
      "N=29 29 655 μs ± 424 ns per loop (mean ± std. dev. of 7 runs, 1,000 loops each)\n",
      "N=30 30 655 μs ± 764 ns per loop (mean ± std. dev. of 7 runs, 1,000 loops each)\n",
      "N=31 31 655 μs ± 1.53 μs per loop (mean ± std. dev. of 7 runs, 1,000 loops each)\n",
      "N=32 32 655 μs ± 1.17 μs per loop (mean ± std. dev. of 7 runs, 1,000 loops each)\n",
      "N=33 33 662 μs ± 11.7 μs per loop (mean ± std. dev. of 7 runs, 1,000 loops each)\n",
      "N=34 34 "
     ]
    }
   ],
   "source": [
    "from rdkit import Chem\n",
    "from rdkit.Chem import AllChem\n",
    "from rdkit.Chem import rdChemReactions\n",
    "\n",
    "for N in range(3, 40):\n",
    "    carbons = [f\"[C:{i}]\" for i in range(1,N+1)]\n",
    "    rxn = f\"{'.'.join(carbons)}>>{''.join(carbons)}\"\n",
    "    rxn = AllChem.ReactionFromSmarts(rxn)\n",
    "    mol = Chem.MolFromSmiles(\"C\")\n",
    "    bbs = []\n",
    "    for i in range(N):\n",
    "        bbs.append( [mol] * 5 )\n",
    "        \n",
    "    lib = rdChemReactions.EnumerateLibrary(rxn, bbs)\n",
    "    print(f\"{N=}\", len(lib.GetPosition()), end=\" \")\n",
    "    %timeit [x for x in lib.GetPosition()]"
   ]
  },
  {
   "cell_type": "code",
   "execution_count": 7,
   "id": "c22ed3dc-90f0-40d9-a7b5-15f57cf944a9",
   "metadata": {},
   "outputs": [
    {
     "name": "stdout",
     "output_type": "stream",
     "text": [
      "649 μs ± 1.88 μs per loop (mean ± std. dev. of 7 runs, 1,000 loops each)\n"
     ]
    }
   ],
   "source": [
    "%timeit list(lib.GetPosition())"
   ]
  },
  {
   "cell_type": "code",
   "execution_count": null,
   "id": "2c7c2122-b55d-406d-8167-55a443831edd",
   "metadata": {},
   "outputs": [],
   "source": []
  }
 ],
 "metadata": {
  "kernelspec": {
   "display_name": "Python 3 (ipykernel)",
   "language": "python",
   "name": "python3"
  },
  "language_info": {
   "codemirror_mode": {
    "name": "ipython",
    "version": 3
   },
   "file_extension": ".py",
   "mimetype": "text/x-python",
   "name": "python",
   "nbconvert_exporter": "python",
   "pygments_lexer": "ipython3",
   "version": "3.11.9"
  }
 },
 "nbformat": 4,
 "nbformat_minor": 5
}
