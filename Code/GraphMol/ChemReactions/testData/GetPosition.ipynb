{
 "cells": [
  {
   "cell_type": "code",
   "execution_count": 1,
   "id": "7729e729-cecb-4157-bc86-e0bca6578431",
   "metadata": {},
   "outputs": [],
   "source": [
    "from rdkit import Chem"
   ]
  },
  {
   "cell_type": "code",
   "execution_count": 2,
   "id": "ef48a4b9-0dd3-4a43-a89d-f1f3d0685b43",
   "metadata": {},
   "outputs": [],
   "source": [
    "m = Chem.MolFromSmiles(\"CCCCCCCCCCCC\")\n",
    "ps = Chem.FindAllPathsOfLengthN(m, 3)"
   ]
  },
  {
   "cell_type": "code",
   "execution_count": 3,
   "id": "6bfdab2f-5389-4b80-b7f6-c800cfcfed1b",
   "metadata": {},
   "outputs": [
    {
     "name": "stdout",
     "output_type": "stream",
     "text": [
      "5.04 ms ± 24.9 μs per loop (mean ± std. dev. of 7 runs, 100 loops each)\n"
     ]
    }
   ],
   "source": [
    "%timeit [list(x) for x in ps]"
   ]
  },
  {
   "cell_type": "code",
   "execution_count": 4,
   "id": "02e16f53-d7c3-4ea7-929a-845a5f837c9b",
   "metadata": {},
   "outputs": [],
   "source": [
    "from rdkit.Chem import AllChem"
   ]
  },
  {
   "cell_type": "code",
   "execution_count": 5,
   "id": "346cf272-7255-4418-85e2-14c5dd982742",
   "metadata": {},
   "outputs": [],
   "source": [
    "from rdkit.Chem import rdChemReactions"
   ]
  },
  {
   "cell_type": "code",
   "execution_count": 6,
   "id": "df32965a-5b71-4705-b929-0d6b8d8b471a",
   "metadata": {},
   "outputs": [],
   "source": [
    "carbons = [f\"[C:{i}]\" for i in range(1,21)]\n",
    "rxn = f\"{'.'.join(carbons)}>>{''.join(carbons)}\"\n",
    "rxn = AllChem.ReactionFromSmarts(rxn)\n",
    "mol = Chem.MolFromSmiles(\"C\")\n",
    "bbs = []\n",
    "for i in range(20):\n",
    "    bbs.append( [mol] * 5 )\n",
    "    \n",
    "lib = rdChemReactions.EnumerateLibrary(rxn, bbs)"
   ]
  },
  {
   "cell_type": "code",
   "execution_count": 7,
   "id": "c22ed3dc-90f0-40d9-a7b5-15f57cf944a9",
   "metadata": {},
   "outputs": [
    {
     "name": "stdout",
     "output_type": "stream",
     "text": [
      "649 μs ± 1.88 μs per loop (mean ± std. dev. of 7 runs, 1,000 loops each)\n"
     ]
    }
   ],
   "source": [
    "%timeit list(lib.GetPosition())"
   ]
  },
  {
   "cell_type": "code",
   "execution_count": null,
   "id": "2c7c2122-b55d-406d-8167-55a443831edd",
   "metadata": {},
   "outputs": [],
   "source": []
  }
 ],
 "metadata": {
  "kernelspec": {
   "display_name": "Python 3 (ipykernel)",
   "language": "python",
   "name": "python3"
  },
  "language_info": {
   "codemirror_mode": {
    "name": "ipython",
    "version": 3
   },
   "file_extension": ".py",
   "mimetype": "text/x-python",
   "name": "python",
   "nbconvert_exporter": "python",
   "pygments_lexer": "ipython3",
   "version": "3.11.9"
  }
 },
 "nbformat": 4,
 "nbformat_minor": 5
}
