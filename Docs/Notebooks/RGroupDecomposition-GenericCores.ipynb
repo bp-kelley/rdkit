{
 "cells": [
  {
   "cell_type": "markdown",
   "metadata": {},
   "source": [
    "Example complicated lactam analysis.\n",
    "\n",
    "The input cores are generic in atoms and bonds, the system figures out the correct cores for grouping purposes.\n",
    "\n",
    "This may be overkill ( and certainly takes a long enough time ).  What the algorithm is doing is first mapping each core to each other and then trying to optimizes the side chain selection across all sets.  I.e. it tries to make the matching choices such that all R1's are the same, all R2's are the same and so on.\n",
    "\n",
    "**n.b.** *It is important that the cores are input in most to least specific as the RGroupDecomposition takes the first matching core.*"
   ]
  },
  {
   "cell_type": "code",
   "execution_count": 1,
   "metadata": {},
   "outputs": [],
   "source": [
    "from __future__ import print_function\n",
    "from rdkit import Chem\n",
    "from rdkit.Chem import AllChem\n",
    "from rdkit.Chem.Draw import IPythonConsole\n",
    "IPythonConsole.ipython_useSVG=True\n",
    "from rdkit.Chem.rdRGroupDecomposition import RGroupDecomposition\n",
    "import pandas as pd\n",
    "from rdkit.Chem import PandasTools\n",
    "from collections import OrderedDict"
   ]
  },
  {
   "cell_type": "code",
   "execution_count": 2,
   "metadata": {},
   "outputs": [],
   "source": [
    "cores = OrderedDict()\n",
    "\n",
    "cores['six'] = Chem.MolFromSmarts('[#8]-[#6](=O)-*~1~*~*~*~*~2-[#6]-[#6](=O)-*~1~2')\n",
    "cores['five'] = Chem.MolFromSmarts('[#8]-[#6](=O)-*~1~*~*~*~2-[#6]-[#6](=O)-*~1~2')\n"
   ]
  },
  {
   "cell_type": "code",
   "execution_count": 3,
   "metadata": {},
   "outputs": [
    {
     "data": {
      "image/svg+xml": [
       "<svg xmlns=\"http://www.w3.org/2000/svg\" xmlns:rdkit=\"http://www.rdkit.org/xml\" xmlns:xlink=\"http://www.w3.org/1999/xlink\" version=\"1.1\" baseProfile=\"full\" xml:space=\"preserve\" width=\"600px\" height=\"200px\" viewBox=\"0 0 600 200\">\n",
       "<!-- END OF HEADER -->\n",
       "<rect style=\"opacity:1.0;fill:#FFFFFF;stroke:none\" width=\"600\" height=\"200\" x=\"0\" y=\"0\"> </rect>\n",
       "<rect style=\"opacity:1.0;fill:#FFFFFF;stroke:none\" width=\"600\" height=\"200\" x=\"0\" y=\"0\"> </rect>\n",
       "<rect style=\"opacity:1.0;fill:#FFFFFF;stroke:none\" width=\"600\" height=\"200\" x=\"0\" y=\"0\"> </rect>\n",
       "<path class=\"bond-0\" d=\"M 19.4204,92.9141 L 33.1106,99.8831\" style=\"fill:none;fill-rule:evenodd;stroke:#FF0000;stroke-width:2px;stroke-linecap:butt;stroke-linejoin:miter;stroke-opacity:1\"/>\n",
       "<path class=\"bond-0\" d=\"M 33.1106,99.8831 L 46.8009,106.852\" style=\"fill:none;fill-rule:evenodd;stroke:#000000;stroke-width:2px;stroke-linecap:butt;stroke-linejoin:miter;stroke-opacity:1\"/>\n",
       "<path class=\"bond-1\" d=\"M 42.9947,107.053 L 43.8104,122.505\" style=\"fill:none;fill-rule:evenodd;stroke:#000000;stroke-width:2px;stroke-linecap:butt;stroke-linejoin:miter;stroke-opacity:1\"/>\n",
       "<path class=\"bond-1\" d=\"M 43.8104,122.505 L 44.6261,137.956\" style=\"fill:none;fill-rule:evenodd;stroke:#FF0000;stroke-width:2px;stroke-linecap:butt;stroke-linejoin:miter;stroke-opacity:1\"/>\n",
       "<path class=\"bond-1\" d=\"M 50.6071,106.651 L 51.4228,122.103\" style=\"fill:none;fill-rule:evenodd;stroke:#000000;stroke-width:2px;stroke-linecap:butt;stroke-linejoin:miter;stroke-opacity:1\"/>\n",
       "<path class=\"bond-1\" d=\"M 51.4228,122.103 L 52.2385,137.554\" style=\"fill:none;fill-rule:evenodd;stroke:#FF0000;stroke-width:2px;stroke-linecap:butt;stroke-linejoin:miter;stroke-opacity:1\"/>\n",
       "<path class=\"bond-2\" d=\"M 46.8009,106.852 L 62.5269,96.6309\" style=\"fill:none;fill-rule:evenodd;stroke:#000000;stroke-width:2px;stroke-linecap:butt;stroke-linejoin:miter;stroke-opacity:1\"/>\n",
       "<path class=\"bond-2\" d=\"M 62.5269,96.6309 L 78.2528,86.4098\" style=\"fill:none;fill-rule:evenodd;stroke:#7F7F7F;stroke-width:2px;stroke-linecap:butt;stroke-linejoin:miter;stroke-opacity:1\"/>\n",
       "<path class=\"bond-3\" d=\"M 78.379,78.8877 L 76.7573,48.1679\" style=\"fill:none;fill-rule:evenodd;stroke:#7F7F7F;stroke-width:2px;stroke-linecap:butt;stroke-linejoin:miter;stroke-opacity:1;stroke-dasharray:2,6\"/>\n",
       "<path class=\"bond-11\" d=\"M 79.4047,86.4098 L 108.888,101.418\" style=\"fill:none;fill-rule:evenodd;stroke:#7F7F7F;stroke-width:2px;stroke-linecap:butt;stroke-linejoin:miter;stroke-opacity:1;stroke-dasharray:2,6\"/>\n",
       "<path class=\"bond-4\" d=\"M 80.6059,45.5127 L 108.378,27.462\" style=\"fill:none;fill-rule:evenodd;stroke:#7F7F7F;stroke-width:2px;stroke-linecap:butt;stroke-linejoin:miter;stroke-opacity:1;stroke-dasharray:2,6\"/>\n",
       "<path class=\"bond-5\" d=\"M 109.353,27.577 L 138.836,42.5851\" style=\"fill:none;fill-rule:evenodd;stroke:#7F7F7F;stroke-width:2px;stroke-linecap:butt;stroke-linejoin:miter;stroke-opacity:1;stroke-dasharray:2,6\"/>\n",
       "<path class=\"bond-6\" d=\"M 142.692,44.8678 L 144.304,75.4157\" style=\"fill:none;fill-rule:evenodd;stroke:#7F7F7F;stroke-width:2px;stroke-linecap:butt;stroke-linejoin:miter;stroke-opacity:1;stroke-dasharray:2,6\"/>\n",
       "<path class=\"bond-7\" d=\"M 144.898,82.9296 L 155.176,98.7441\" style=\"fill:none;fill-rule:evenodd;stroke:#7F7F7F;stroke-width:2px;stroke-linecap:butt;stroke-linejoin:miter;stroke-opacity:1\"/>\n",
       "<path class=\"bond-7\" d=\"M 155.176,98.7441 L 165.455,114.559\" style=\"fill:none;fill-rule:evenodd;stroke:#000000;stroke-width:2px;stroke-linecap:butt;stroke-linejoin:miter;stroke-opacity:1\"/>\n",
       "<path class=\"bond-12\" d=\"M 144.178,82.9296 L 116.567,100.875\" style=\"fill:none;fill-rule:evenodd;stroke:#7F7F7F;stroke-width:2px;stroke-linecap:butt;stroke-linejoin:miter;stroke-opacity:1;stroke-dasharray:2,6\"/>\n",
       "<path class=\"bond-8\" d=\"M 165.455,114.559 L 133.497,135.33\" style=\"fill:none;fill-rule:evenodd;stroke:#000000;stroke-width:2px;stroke-linecap:butt;stroke-linejoin:miter;stroke-opacity:1\"/>\n",
       "<path class=\"bond-9\" d=\"M 129.768,134.539 L 126.573,149.602\" style=\"fill:none;fill-rule:evenodd;stroke:#000000;stroke-width:2px;stroke-linecap:butt;stroke-linejoin:miter;stroke-opacity:1\"/>\n",
       "<path class=\"bond-9\" d=\"M 126.573,149.602 L 123.377,164.665\" style=\"fill:none;fill-rule:evenodd;stroke:#FF0000;stroke-width:2px;stroke-linecap:butt;stroke-linejoin:miter;stroke-opacity:1\"/>\n",
       "<path class=\"bond-9\" d=\"M 137.225,136.121 L 134.03,151.184\" style=\"fill:none;fill-rule:evenodd;stroke:#000000;stroke-width:2px;stroke-linecap:butt;stroke-linejoin:miter;stroke-opacity:1\"/>\n",
       "<path class=\"bond-9\" d=\"M 134.03,151.184 L 130.834,166.247\" style=\"fill:none;fill-rule:evenodd;stroke:#FF0000;stroke-width:2px;stroke-linecap:butt;stroke-linejoin:miter;stroke-opacity:1\"/>\n",
       "<path class=\"bond-10\" d=\"M 133.497,135.33 L 123.218,119.515\" style=\"fill:none;fill-rule:evenodd;stroke:#000000;stroke-width:2px;stroke-linecap:butt;stroke-linejoin:miter;stroke-opacity:1\"/>\n",
       "<path class=\"bond-10\" d=\"M 123.218,119.515 L 112.94,103.701\" style=\"fill:none;fill-rule:evenodd;stroke:#7F7F7F;stroke-width:2px;stroke-linecap:butt;stroke-linejoin:miter;stroke-opacity:1\"/>\n",
       "<path class=\"atom-0\" d=\"M 7.19997 89.5959 Q 7.19997 86.649, 8.65608 85.0022 Q 10.1122 83.3554, 12.8337 83.3554 Q 15.5553 83.3554, 17.0114 85.0022 Q 18.4675 86.649, 18.4675 89.5959 Q 18.4675 92.5775, 16.994 94.2763 Q 15.5206 95.9577, 12.8337 95.9577 Q 10.1295 95.9577, 8.65608 94.2763 Q 7.19997 92.5948, 7.19997 89.5959 M 12.8337 94.5709 Q 14.7059 94.5709, 15.7113 93.3229 Q 16.734 92.0574, 16.734 89.5959 Q 16.734 87.1864, 15.7113 85.973 Q 14.7059 84.7422, 12.8337 84.7422 Q 10.9616 84.7422, 9.93885 85.9556 Q 8.93344 87.1691, 8.93344 89.5959 Q 8.93344 92.0748, 9.93885 93.3229 Q 10.9616 94.5709, 12.8337 94.5709 \" fill=\"#FF0000\"/>\n",
       "<path class=\"atom-2\" d=\"M 43.1765 144.949 Q 43.1765 142.002, 44.6326 140.355 Q 46.0887 138.708, 48.8102 138.708 Q 51.5317 138.708, 52.9879 140.355 Q 54.444 142.002, 54.444 144.949 Q 54.444 147.93, 52.9705 149.629 Q 51.4971 151.31, 48.8102 151.31 Q 46.106 151.31, 44.6326 149.629 Q 43.1765 147.947, 43.1765 144.949 M 48.8102 149.924 Q 50.6823 149.924, 51.6878 148.675 Q 52.7105 147.41, 52.7105 144.949 Q 52.7105 142.539, 51.6878 141.326 Q 50.6823 140.095, 48.8102 140.095 Q 46.9381 140.095, 45.9153 141.308 Q 44.9099 142.522, 44.9099 144.949 Q 44.9099 147.427, 45.9153 148.675 Q 46.9381 149.924, 48.8102 149.924 \" fill=\"#FF0000\"/>\n",
       "<path class=\"atom-3\" d=\"M 76.4446 84.7116 L 78.2474 82.8741 L 75.8552 82.3887 L 76.2192 81.158 L 78.4207 82.2674 L 78.1087 79.8579 L 79.4088 79.8405 L 79.0448 82.2501 L 81.2809 81.21 L 81.6623 82.3887 L 79.2355 82.8394 L 80.9689 84.6942 L 79.9115 85.457 L 78.7154 83.1688 L 77.502 85.457 L 76.4446 84.7116 \" fill=\"#7F7F7F\"/>\n",
       "<path class=\"atom-4\" d=\"M 74.4353 46.6497 L 76.2381 44.8123 L 73.8459 44.3269 L 74.2099 43.0961 L 76.4114 44.2056 L 76.0994 41.7961 L 77.3995 41.7787 L 77.0355 44.1882 L 79.2716 43.1482 L 79.653 44.3269 L 77.2261 44.7776 L 78.9596 46.6324 L 77.9022 47.3951 L 76.7061 45.107 L 75.4927 47.3951 L 74.4353 46.6497 \" fill=\"#7F7F7F\"/>\n",
       "<path class=\"atom-5\" d=\"M 106.393 25.8787 L 108.196 24.0412 L 105.804 23.5559 L 106.168 22.3251 L 108.369 23.4345 L 108.057 21.025 L 109.357 21.0077 L 108.993 23.4172 L 111.229 22.3771 L 111.611 23.5559 L 109.184 24.0066 L 110.917 25.8614 L 109.86 26.6241 L 108.664 24.3359 L 107.451 26.6241 L 106.393 25.8787 \" fill=\"#7F7F7F\"/>\n",
       "<path class=\"atom-6\" d=\"M 140.36 43.1695 L 142.163 41.3321 L 139.771 40.8467 L 140.135 39.6159 L 142.336 40.7253 L 142.024 38.3158 L 143.325 38.2985 L 142.96 40.708 L 145.197 39.6679 L 145.578 40.8467 L 143.151 41.2974 L 144.885 43.1522 L 143.827 43.9149 L 142.631 41.6267 L 141.418 43.9149 L 140.36 43.1695 \" fill=\"#7F7F7F\"/>\n",
       "<path class=\"atom-7\" d=\"M 142.37 81.2314 L 144.172 79.3939 L 141.78 78.9085 L 142.144 77.6778 L 144.346 78.7872 L 144.034 76.3777 L 145.334 76.3603 L 144.97 78.7698 L 147.206 77.7298 L 147.587 78.9085 L 145.16 79.3592 L 146.894 81.214 L 145.837 81.9767 L 144.64 79.6886 L 143.427 81.9767 L 142.37 81.2314 \" fill=\"#7F7F7F\"/>\n",
       "<path class=\"atom-10\" d=\"M 119.953 172.649 Q 119.953 169.702, 121.409 168.056 Q 122.865 166.409, 125.587 166.409 Q 128.308 166.409, 129.764 168.056 Q 131.22 169.702, 131.22 172.649 Q 131.22 175.631, 129.747 177.33 Q 128.274 179.011, 125.587 179.011 Q 122.882 179.011, 121.409 177.33 Q 119.953 175.648, 119.953 172.649 M 125.587 177.624 Q 127.459 177.624, 128.464 176.376 Q 129.487 175.111, 129.487 172.649 Q 129.487 170.24, 128.464 169.026 Q 127.459 167.796, 125.587 167.796 Q 123.715 167.796, 122.692 169.009 Q 121.686 170.222, 121.686 172.649 Q 121.686 175.128, 122.692 176.376 Q 123.715 177.624, 125.587 177.624 \" fill=\"#FF0000\"/>\n",
       "<path class=\"atom-11\" d=\"M 110.412 102.002 L 112.215 100.165 L 109.822 99.6795 L 110.186 98.4488 L 112.388 99.5582 L 112.076 97.1487 L 113.376 97.1314 L 113.012 99.5409 L 115.248 98.5008 L 115.629 99.6795 L 113.203 100.13 L 114.936 101.985 L 113.879 102.748 L 112.683 100.46 L 111.469 102.748 L 110.412 102.002 \" fill=\"#7F7F7F\"/>\n",
       "<path class=\"bond-0\" d=\"M 347.57,141.527 L 349.665,126.226\" style=\"fill:none;fill-rule:evenodd;stroke:#FF0000;stroke-width:2px;stroke-linecap:butt;stroke-linejoin:miter;stroke-opacity:1\"/>\n",
       "<path class=\"bond-0\" d=\"M 349.665,126.226 L 351.761,110.924\" style=\"fill:none;fill-rule:evenodd;stroke:#000000;stroke-width:2px;stroke-linecap:butt;stroke-linejoin:miter;stroke-opacity:1\"/>\n",
       "<path class=\"bond-1\" d=\"M 353.201,114.453 L 367.552,108.595\" style=\"fill:none;fill-rule:evenodd;stroke:#000000;stroke-width:2px;stroke-linecap:butt;stroke-linejoin:miter;stroke-opacity:1\"/>\n",
       "<path class=\"bond-1\" d=\"M 367.552,108.595 L 381.903,102.738\" style=\"fill:none;fill-rule:evenodd;stroke:#FF0000;stroke-width:2px;stroke-linecap:butt;stroke-linejoin:miter;stroke-opacity:1\"/>\n",
       "<path class=\"bond-1\" d=\"M 350.32,107.395 L 364.672,101.538\" style=\"fill:none;fill-rule:evenodd;stroke:#000000;stroke-width:2px;stroke-linecap:butt;stroke-linejoin:miter;stroke-opacity:1\"/>\n",
       "<path class=\"bond-1\" d=\"M 364.672,101.538 L 379.023,95.6804\" style=\"fill:none;fill-rule:evenodd;stroke:#FF0000;stroke-width:2px;stroke-linecap:butt;stroke-linejoin:miter;stroke-opacity:1\"/>\n",
       "<path class=\"bond-2\" d=\"M 351.761,110.924 L 336.914,99.4082\" style=\"fill:none;fill-rule:evenodd;stroke:#000000;stroke-width:2px;stroke-linecap:butt;stroke-linejoin:miter;stroke-opacity:1\"/>\n",
       "<path class=\"bond-2\" d=\"M 336.914,99.4082 L 322.067,87.8927\" style=\"fill:none;fill-rule:evenodd;stroke:#7F7F7F;stroke-width:2px;stroke-linecap:butt;stroke-linejoin:miter;stroke-opacity:1\"/>\n",
       "<path class=\"bond-3\" d=\"M 321.869,80.3705 L 322.834,49.6167\" style=\"fill:none;fill-rule:evenodd;stroke:#7F7F7F;stroke-width:2px;stroke-linecap:butt;stroke-linejoin:miter;stroke-opacity:1;stroke-dasharray:2,6\"/>\n",
       "<path class=\"bond-10\" d=\"M 320.512,87.8927 L 288.869,97.0869\" style=\"fill:none;fill-rule:evenodd;stroke:#7F7F7F;stroke-width:2px;stroke-linecap:butt;stroke-linejoin:miter;stroke-opacity:1;stroke-dasharray:2,6\"/>\n",
       "<path class=\"bond-4\" d=\"M 318.983,48.0796 L 287.606,36.7845\" style=\"fill:none;fill-rule:evenodd;stroke:#7F7F7F;stroke-width:2px;stroke-linecap:butt;stroke-linejoin:miter;stroke-opacity:1;stroke-dasharray:2,6\"/>\n",
       "<path class=\"bond-5\" d=\"M 286.722,36.8869 L 267.463,61.7169\" style=\"fill:none;fill-rule:evenodd;stroke:#7F7F7F;stroke-width:2px;stroke-linecap:butt;stroke-linejoin:miter;stroke-opacity:1;stroke-dasharray:2,6\"/>\n",
       "<path class=\"bond-6\" d=\"M 263.134,67.0044 L 247.614,77.5523\" style=\"fill:none;fill-rule:evenodd;stroke:#7F7F7F;stroke-width:2px;stroke-linecap:butt;stroke-linejoin:miter;stroke-opacity:1\"/>\n",
       "<path class=\"bond-6\" d=\"M 247.614,77.5523 L 232.094,88.1003\" style=\"fill:none;fill-rule:evenodd;stroke:#000000;stroke-width:2px;stroke-linecap:butt;stroke-linejoin:miter;stroke-opacity:1\"/>\n",
       "<path class=\"bond-11\" d=\"M 263.841,67.0044 L 281.196,92.5393\" style=\"fill:none;fill-rule:evenodd;stroke:#7F7F7F;stroke-width:2px;stroke-linecap:butt;stroke-linejoin:miter;stroke-opacity:1;stroke-dasharray:2,6\"/>\n",
       "<path class=\"bond-7\" d=\"M 232.094,88.1003 L 253.519,119.624\" style=\"fill:none;fill-rule:evenodd;stroke:#000000;stroke-width:2px;stroke-linecap:butt;stroke-linejoin:miter;stroke-opacity:1\"/>\n",
       "<path class=\"bond-8\" d=\"M 249.775,118.91 L 246.887,134.05\" style=\"fill:none;fill-rule:evenodd;stroke:#000000;stroke-width:2px;stroke-linecap:butt;stroke-linejoin:miter;stroke-opacity:1\"/>\n",
       "<path class=\"bond-8\" d=\"M 246.887,134.05 L 243.999,149.191\" style=\"fill:none;fill-rule:evenodd;stroke:#FF0000;stroke-width:2px;stroke-linecap:butt;stroke-linejoin:miter;stroke-opacity:1\"/>\n",
       "<path class=\"bond-8\" d=\"M 257.263,120.338 L 254.375,135.478\" style=\"fill:none;fill-rule:evenodd;stroke:#000000;stroke-width:2px;stroke-linecap:butt;stroke-linejoin:miter;stroke-opacity:1\"/>\n",
       "<path class=\"bond-8\" d=\"M 254.375,135.478 L 251.487,150.619\" style=\"fill:none;fill-rule:evenodd;stroke:#FF0000;stroke-width:2px;stroke-linecap:butt;stroke-linejoin:miter;stroke-opacity:1\"/>\n",
       "<path class=\"bond-9\" d=\"M 253.519,119.624 L 269.039,109.076\" style=\"fill:none;fill-rule:evenodd;stroke:#000000;stroke-width:2px;stroke-linecap:butt;stroke-linejoin:miter;stroke-opacity:1\"/>\n",
       "<path class=\"bond-9\" d=\"M 269.039,109.076 L 284.558,98.5277\" style=\"fill:none;fill-rule:evenodd;stroke:#7F7F7F;stroke-width:2px;stroke-linecap:butt;stroke-linejoin:miter;stroke-opacity:1\"/>\n",
       "<path class=\"atom-0\" d=\"M 340.955 148.721 Q 340.955 145.774, 342.412 144.127 Q 343.868 142.48, 346.589 142.48 Q 349.311 142.48, 350.767 144.127 Q 352.223 145.774, 352.223 148.721 Q 352.223 151.702, 350.749 153.401 Q 349.276 155.083, 346.589 155.083 Q 343.885 155.083, 342.412 153.401 Q 340.955 151.72, 340.955 148.721 M 346.589 153.696 Q 348.461 153.696, 349.467 152.448 Q 350.489 151.182, 350.489 148.721 Q 350.489 146.311, 349.467 145.098 Q 348.461 143.867, 346.589 143.867 Q 344.717 143.867, 343.694 145.08 Q 342.689 146.294, 342.689 148.721 Q 342.689 151.2, 343.694 152.448 Q 344.717 153.696, 346.589 153.696 \" fill=\"#FF0000\"/>\n",
       "<path class=\"atom-2\" d=\"M 381.416 96.5558 Q 381.416 93.6089, 382.872 91.9621 Q 384.328 90.3153, 387.05 90.3153 Q 389.771 90.3153, 391.227 91.9621 Q 392.683 93.6089, 392.683 96.5558 Q 392.683 99.5373, 391.21 101.236 Q 389.736 102.918, 387.05 102.918 Q 384.345 102.918, 382.872 101.236 Q 381.416 99.5547, 381.416 96.5558 M 387.05 101.531 Q 388.922 101.531, 389.927 100.283 Q 390.95 99.0173, 390.95 96.5558 Q 390.95 94.1463, 389.927 92.9329 Q 388.922 91.7021, 387.05 91.7021 Q 385.177 91.7021, 384.155 92.9155 Q 383.149 94.1289, 383.149 96.5558 Q 383.149 99.0346, 384.155 100.283 Q 385.177 101.531, 387.05 101.531 \" fill=\"#FF0000\"/>\n",
       "<path class=\"atom-3\" d=\"M 319.329 86.1944 L 321.132 84.357 L 318.74 83.8716 L 319.104 82.6408 L 321.305 83.7502 L 320.993 81.3407 L 322.293 81.3234 L 321.929 83.7329 L 324.165 82.6928 L 324.547 83.8716 L 322.12 84.3223 L 323.853 86.1771 L 322.796 86.9398 L 321.6 84.6517 L 320.386 86.9398 L 319.329 86.1944 \" fill=\"#7F7F7F\"/>\n",
       "<path class=\"atom-4\" d=\"M 320.525 48.0984 L 322.328 46.2609 L 319.936 45.7755 L 320.3 44.5448 L 322.501 45.6542 L 322.189 43.2447 L 323.489 43.2273 L 323.125 45.6368 L 325.361 44.5968 L 325.743 45.7755 L 323.316 46.2262 L 325.049 48.081 L 323.992 48.8438 L 322.796 46.5556 L 321.582 48.8438 L 320.525 48.0984 \" fill=\"#7F7F7F\"/>\n",
       "<path class=\"atom-5\" d=\"M 284.663 35.1887 L 286.466 33.3512 L 284.074 32.8658 L 284.438 31.6351 L 286.639 32.7445 L 286.327 30.335 L 287.627 30.3176 L 287.263 32.7271 L 289.499 31.6871 L 289.881 32.8658 L 287.454 33.3165 L 289.187 35.1713 L 288.13 35.9341 L 286.934 33.6459 L 285.72 35.9341 L 284.663 35.1887 \" fill=\"#7F7F7F\"/>\n",
       "<path class=\"atom-6\" d=\"M 261.303 65.3061 L 263.106 63.4686 L 260.714 62.9833 L 261.078 61.7525 L 263.279 62.8619 L 262.967 60.4524 L 264.267 60.4351 L 263.903 62.8446 L 266.14 61.8045 L 266.521 62.9833 L 264.094 63.434 L 265.828 65.2888 L 264.77 66.0515 L 263.574 63.7633 L 262.361 66.0515 L 261.303 65.3061 \" fill=\"#7F7F7F\"/>\n",
       "<path class=\"atom-9\" d=\"M 240.744 157.098 Q 240.744 154.151, 242.2 152.505 Q 243.657 150.858, 246.378 150.858 Q 249.1 150.858, 250.556 152.505 Q 252.012 154.151, 252.012 157.098 Q 252.012 160.08, 250.538 161.779 Q 249.065 163.46, 246.378 163.46 Q 243.674 163.46, 242.2 161.779 Q 240.744 160.097, 240.744 157.098 M 246.378 162.073 Q 248.25 162.073, 249.256 160.825 Q 250.278 159.56, 250.278 157.098 Q 250.278 154.689, 249.256 153.475 Q 248.25 152.245, 246.378 152.245 Q 244.506 152.245, 243.483 153.458 Q 242.478 154.671, 242.478 157.098 Q 242.478 159.577, 243.483 160.825 Q 244.506 162.073, 246.378 162.073 \" fill=\"#FF0000\"/>\n",
       "<path class=\"atom-10\" d=\"M 282.728 96.8294 L 284.531 94.9919 L 282.139 94.5066 L 282.503 93.2758 L 284.704 94.3852 L 284.392 91.9757 L 285.692 91.9584 L 285.328 94.3679 L 287.564 93.3278 L 287.946 94.5066 L 285.519 94.9573 L 287.252 96.8121 L 286.195 97.5748 L 284.999 95.2866 L 283.785 97.5748 L 282.728 96.8294 \" fill=\"#7F7F7F\"/>\n",
       "</svg>"
      ],
      "text/plain": [
       "<IPython.core.display.SVG object>"
      ]
     },
     "execution_count": 3,
     "metadata": {},
     "output_type": "execute_result"
    }
   ],
   "source": [
    "from rdkit.Chem import Draw\n",
    "Draw.MolsToGridImage(cores.values())"
   ]
  },
  {
   "cell_type": "markdown",
   "metadata": {},
   "source": [
    "To use RGroupDecomposition:\n",
    "  \n",
    "  1. construct the class on the core rg = RGroupDecomposition(core)\n",
    "  2. Call rg.Add( mol ) on the molecules.  If this returns -1, the molecule is not\n",
    "     compatible with the core\n",
    "  3. After all molecules are added, call rg.Process() to complete the rgroup\n",
    "     decomposition."
   ]
  },
  {
   "cell_type": "code",
   "execution_count": 4,
   "metadata": {},
   "outputs": [
    {
     "name": "stderr",
     "output_type": "stream",
     "text": [
      "RDKit ERROR: [17:03:17] SMILES Parse Error: syntax error while parsing: CANONICAL_SMILES\n",
      "RDKit ERROR: [17:03:17] SMILES Parse Error: Failed parsing SMILES 'CANONICAL_SMILES' for input: 'CANONICAL_SMILES'\n"
     ]
    },
    {
     "name": "stdout",
     "output_type": "stream",
     "text": [
      "Added 1000\n",
      "Added 2000\n",
      "Added 3000\n",
      "Added 4000\n",
      "Added 2309 to RGroup Decomposition out of 4340\n"
     ]
    }
   ],
   "source": [
    "rg = RGroupDecomposition(cores.values())\n",
    "\n",
    "mols = []\n",
    "count = 0\n",
    "maxidx = -1\n",
    "for line in open(\"compounds.txt\"):\n",
    "    sm = line.split()[-1]\n",
    "    m = Chem.MolFromSmiles(sm)\n",
    "    if m:\n",
    "        count += 1\n",
    "        maxidx = max(maxidx,rg.Add(m))\n",
    "        if count % 1000 == 0:\n",
    "            print(\"Added\", count)\n",
    "\n",
    "print (\"Added %s to RGroup Decomposition out of %s\"%(maxidx, count))"
   ]
  },
  {
   "cell_type": "code",
   "execution_count": 5,
   "metadata": {},
   "outputs": [
    {
     "data": {
      "text/plain": [
       "False"
      ]
     },
     "execution_count": 5,
     "metadata": {},
     "output_type": "execute_result"
    }
   ],
   "source": [
    "rg.Process()"
   ]
  },
  {
   "cell_type": "markdown",
   "metadata": {},
   "source": [
    "Rendering this many molecules is pretty taxing for the current system, this takes a while.\n",
    "\n",
    "It is useful to disable logging here.  When making RGroup renderings there \n",
    "are a lot of sanitization warnings."
   ]
  },
  {
   "cell_type": "code",
   "execution_count": 6,
   "metadata": {},
   "outputs": [],
   "source": [
    "from rdkit import rdBase\n",
    "rdBase.DisableLog(\"rdApp.*\")"
   ]
  },
  {
   "cell_type": "markdown",
   "metadata": {},
   "source": [
    "The RGroupDecomposition code is quite compatible with the python pandas integration.\n",
    "Calling rg.GetRGroupsAsColumns() can be sent directly into a pandas table.\n",
    "\n",
    "**n.b.** You need to call PandasTools.ChangeMoleculeRendering(frame) to allow the molecules\n",
    "to be rendered properly."
   ]
  },
  {
   "cell_type": "code",
   "execution_count": 7,
   "metadata": {},
   "outputs": [
    {
     "ename": "RuntimeError",
     "evalue": "Invariant Violation\n\tDuplicate labels in rgroup core!\n\tViolation occurred on line 45 in file Code/GraphMol/RGroupDecomposition/RGroupUtils.cpp\n\tFailed Expression: atoms.find(rlabel) == atoms.end()\n\tRDKIT: 2020.09.1dev1\n\tBOOST: 1_71\n",
     "output_type": "error",
     "traceback": [
      "\u001b[0;31m---------------------------------------------------------------------------\u001b[0m",
      "\u001b[0;31mRuntimeError\u001b[0m                              Traceback (most recent call last)",
      "\u001b[0;32m<ipython-input-7-4f8172b83a3f>\u001b[0m in \u001b[0;36m<module>\u001b[0;34m\u001b[0m\n\u001b[0;32m----> 1\u001b[0;31m \u001b[0mframe\u001b[0m \u001b[0;34m=\u001b[0m \u001b[0mpd\u001b[0m\u001b[0;34m.\u001b[0m\u001b[0mDataFrame\u001b[0m\u001b[0;34m(\u001b[0m\u001b[0mrg\u001b[0m\u001b[0;34m.\u001b[0m\u001b[0mGetRGroupsAsColumns\u001b[0m\u001b[0;34m(\u001b[0m\u001b[0;34m)\u001b[0m\u001b[0;34m)\u001b[0m\u001b[0;34m\u001b[0m\u001b[0;34m\u001b[0m\u001b[0m\n\u001b[0m\u001b[1;32m      2\u001b[0m \u001b[0mPandasTools\u001b[0m\u001b[0;34m.\u001b[0m\u001b[0mChangeMoleculeRendering\u001b[0m\u001b[0;34m(\u001b[0m\u001b[0mframe\u001b[0m\u001b[0;34m)\u001b[0m\u001b[0;34m\u001b[0m\u001b[0;34m\u001b[0m\u001b[0m\n",
      "\u001b[0;31mRuntimeError\u001b[0m: Invariant Violation\n\tDuplicate labels in rgroup core!\n\tViolation occurred on line 45 in file Code/GraphMol/RGroupDecomposition/RGroupUtils.cpp\n\tFailed Expression: atoms.find(rlabel) == atoms.end()\n\tRDKIT: 2020.09.1dev1\n\tBOOST: 1_71\n"
     ]
    }
   ],
   "source": [
    "frame = pd.DataFrame(rg.GetRGroupsAsColumns())\n",
    "PandasTools.ChangeMoleculeRendering(frame)"
   ]
  },
  {
   "cell_type": "markdown",
   "metadata": {},
   "source": [
    "Just show the first few (for speed and to keep the notebook small)"
   ]
  },
  {
   "cell_type": "code",
   "execution_count": null,
   "metadata": {},
   "outputs": [],
   "source": [
    "f2 = pd.DataFrame(frame.head())\n",
    "PandasTools.ChangeMoleculeRendering(f2)\n",
    "f2"
   ]
  }
 ],
 "metadata": {
  "kernelspec": {
   "display_name": "Python (conda rdkit_build)",
   "language": "python",
   "name": "rdkit_build"
  },
  "language_info": {
   "codemirror_mode": {
    "name": "ipython",
    "version": 3
   },
   "file_extension": ".py",
   "mimetype": "text/x-python",
   "name": "python",
   "nbconvert_exporter": "python",
   "pygments_lexer": "ipython3",
   "version": "3.8.3"
  }
 },
 "nbformat": 4,
 "nbformat_minor": 1
}
